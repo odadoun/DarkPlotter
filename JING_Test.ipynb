{
 "cells": [
  {
   "cell_type": "code",
   "execution_count": null,
   "metadata": {
    "tags": [
     "parameters"
    ]
   },
   "outputs": [],
   "source": [
    "import numpy as np\n",
    "from bokeh.plotting import figure, show, output_notebook\n",
    "from bokeh.layouts import row\n",
    "from bokeh.models import CustomJS, Slider, Label, ColumnDataSource\n",
    "output_notebook()\n",
    "\n",
    "theta = 0 #input the value here\n",
    "theta = np.radians(-theta)\n",
    "\n",
    "#Inputs to be made text boxes\n",
    "sig_x = 10\n",
    "\n",
    "source = ColumnDataSource(data=dict(x=[1,1], y=[-1,1]))\n",
    "\n",
    "fig = figure(\n",
    "    title = 'Test of Text Rotation',\n",
    "    plot_height = 300,\n",
    "    plot_width = 300,\n",
    "    x_range = (-3,3),\n",
    "    y_range=(-3,3),\n",
    "    toolbar_location = None\n",
    ")\n",
    "fig.line('x', 'y',source=source, line_width = 2)\n",
    "\n",
    "citation = Label(x=1, y=1, text = str(10*sig_x),angle=theta)\n",
    "fig.add_layout(citation)\n",
    "\n",
    "amp_slider = Slider(start=0, end=360, value=theta, step=1, title=\"theta\")\n",
    "\n",
    "# Adding callback code\n",
    "callback = CustomJS(args=dict(source=source ,val=amp_slider, lable=citation),\n",
    "                code=\"\"\"\n",
    "const data = source.data;\n",
    "\n",
    "var x = data['x'];\n",
    "var y = data['y'];\n",
    "var pi = Math.PI;\n",
    "var theta = -1*(val.value) * (pi/180);\n",
    "x[0]=(1*Math.cos(theta))-(1*Math.sin(theta));\n",
    "x[1]=(1*Math.cos(theta))+(1*Math.sin(theta));\n",
    "y[0]=(-1*Math.sin(theta))-(1*Math.cos(theta));\n",
    "y[1]=(-1*Math.sin(theta))+(1*Math.cos(theta));\n",
    "source.change.emit();\n",
    "\n",
    "lable['x'] = x[1]\n",
    "lable['y'] = y[1]\n",
    "lable['angle'] = theta\n",
    "lable.change.emit();\n",
    "\"\"\"\n",
    ")\n",
    "amp_slider.js_on_change('value', callback)\n",
    "layout = row(fig, amp_slider)\n",
    "show(layout)"
   ]
  },
  {
   "cell_type": "code",
   "execution_count": null,
   "metadata": {},
   "outputs": [],
   "source": [
    "#Case 2"
   ]
  },
  {
   "cell_type": "code",
   "execution_count": null,
   "metadata": {},
   "outputs": [],
   "source": [
    "import pandas as pd\n",
    "\n",
    "from bokeh.io import show, output_notebook    \n",
    "from bokeh.models import ColumnDataSource, HoverTool, LinearColorMapper    \n",
    "from bokeh.tile_providers import CARTODBPOSITRON\n",
    "from bokeh.plotting import figure, show\n",
    "from bokeh.layouts import column, widgetbox,row,layout\n",
    "from bokeh.models import CustomJS, Slider\n",
    "\n",
    "\n",
    "TOOLS = \"pan,wheel_zoom,reset,save\"\n",
    "\n",
    "points = pd.DataFrame(data = {'x': [1, 2, 3, 1, 2, 3, 1, 2, 3], \n",
    "                              'y': [4, 5, 6, 5, 6, 4, 6, 4, 5],\n",
    "                             'time': [1, 1, 1, 2, 2, 2, 3, 3, 3]})\n",
    "\n",
    "visible_points = points[(points['time'] == 1)]\n",
    "\n",
    "source_visible = ColumnDataSource(data=dict(x=visible_points['x'], y=visible_points['y'], time=visible_points['time']))\n",
    "source_available = ColumnDataSource(data=dict(x=points['x'], y=points['y'], time=points['time']))\n",
    "\n",
    "mapplot = figure(title=\"Slider Test Plot\", tools=TOOLS, width=950, height=650)\n",
    "#mapplot.add_tile(CARTODBPOSITRON)\n",
    "mapplot.circle(x=\"x\", y=\"y\", size=15, fill_color=\"blue\", fill_alpha=0.2, source=source_visible)\n"
   ]
  },
  {
   "cell_type": "code",
   "execution_count": null,
   "metadata": {},
   "outputs": [],
   "source": [
    "slider = Slider(title='Time',\n",
    "                value=1,\n",
    "                start=1,\n",
    "                end=3,\n",
    "                step=1)\n",
    "\n",
    "\n",
    "\n",
    "callback = CustomJS(args=dict(source_visible = source_visible, source_available = source_available), code=\"\"\"\n",
    "    var time_val = cb_obj.value;\n",
    "    // Get the data from the data sources\n",
    "    var point_visible = source_visible.data;\n",
    "    var point_available = source_available.data;\n",
    "\n",
    "    point_visible.x = []\n",
    "    point_visible.y = []\n",
    "\n",
    "    // Update the visible data\n",
    "    for(var i = 0; i < point_available.x.length; i++) {  \n",
    "        if (point_available.time[i] == time_val){\n",
    "            point_visible.x.push(point_available.x[i]);\n",
    "            point_visible.y.push(point_available.y[i]);\n",
    "        }   \n",
    "    }\n",
    "    source_visible.change.emit();\n",
    "\"\"\")\n",
    "slider.js_on_change('value', callback)"
   ]
  },
  {
   "cell_type": "code",
   "execution_count": null,
   "metadata": {},
   "outputs": [],
   "source": [
    "\n",
    "layout = column(mapplot,slider)\n",
    "\n",
    "show(layout)"
   ]
  },
  {
   "cell_type": "code",
   "execution_count": null,
   "metadata": {},
   "outputs": [],
   "source": [
    "#Case3"
   ]
  },
  {
   "cell_type": "code",
   "execution_count": 17,
   "metadata": {},
   "outputs": [],
   "source": [
    "import pandas as pd\n",
    "from bokeh.plotting import figure, show, ColumnDataSource\n",
    "from bokeh.layouts import column\n",
    "from bokeh.models import CustomJS, Slider\n",
    "\n",
    "\n",
    "df = pd.DataFrame([[1,2,3,4,5],[2,20,3,10,20]], columns = ['1','21','22','31','32'])\n",
    "source_available = ColumnDataSource(df)\n",
    "source_visible = ColumnDataSource(data = dict(x = df['1'], y = df['21']))\n",
    "\n",
    "p = figure(title = 'SLIMe')\n",
    "p.circle('x', 'y', source = source_visible)\n",
    "\n",
    "slider1 = Slider(title = \"SlideME\", value = 2, start = 2, end = 3, step = 1)\n",
    "slider2 = Slider(title = \"SlideME2\", value = 1, start = 1, end = 2, step = 1)\n",
    "\n",
    "slider1.js_on_change('value', CustomJS(\n",
    "    args=dict(source_visible=source_visible,\n",
    "              source_available=source_available,\n",
    "              slider1 = slider1,\n",
    "              slider2 = slider2), code=\"\"\"\n",
    "        var sli1 = slider1.value;\n",
    "        var sli2 = slider2.value;\n",
    "        var data_visible = source_visible.data;\n",
    "        var data_available = source_available.data;\n",
    "        data_visible.y = data_available[sli1.toString() + sli2.toString()];\n",
    "        source_visible.change.emit();\n",
    "    \"\"\") )\n",
    "slider2.js_on_change('value', CustomJS(\n",
    "    args=dict(source_visible=source_visible,\n",
    "              source_available=source_available,\n",
    "              slider1 = slider1,\n",
    "              slider2 = slider2), code=\"\"\"\n",
    "        var sli1 = slider1.value;\n",
    "        var sli2 = slider2.value;\n",
    "        var data_visible = source_visible.data;\n",
    "        var data_available = source_available.data;\n",
    "        data_visible.y = data_available[sli1.toString() + sli2.toString()];\n",
    "        source_visible.change.emit();\n",
    "    \"\"\") )\n",
    "\n",
    "\n",
    "show(column(p, slider1, slider2))"
   ]
  },
  {
   "cell_type": "code",
   "execution_count": 1,
   "metadata": {},
   "outputs": [
    {
     "data": {
      "image/png": "[encoded data removed]",
      "text/plain": [
       "<Figure size 600x400 with 2 Axes>"
      ]
     },
     "metadata": {},
     "output_type": "display_data"
    }
   ],
   "source": [
    "#rotation of labels\n",
    "import matplotlib.pyplot as plt\n",
    "import numpy as np\n",
    "\n",
    "fig, (ax1, ax2) = plt.subplots(nrows=2, figsize=(6, 4), sharex=True)\n",
    "\n",
    "ax2.set_yscale('log')\n",
    "ax2.set(ylim=(1e-11, 1e-1), xlim=(-0.2, 7.2))\n",
    "\n",
    "x = np.linspace(0.8, 6.2, 100)\n",
    "y = (lambda x: 10**(( -2 - x)))(x)  \n",
    "\n",
    "# angle in data coordinates\n",
    "angle_data = np.rad2deg(np.arctan2(y[1]-y[0], x[1]-x[0]))\n",
    "\n",
    "# Apply the exact same code to linear and log axes\n",
    "for ax in (ax1, ax2):\n",
    "\n",
    "    ax.plot(x, y, 'b-')\n",
    "\n",
    "    # angle in screen coordinates\n",
    "    angle_screen = ax.transData.transform_angles(np.array((angle_data,)), \n",
    "                                              np.array([x[0], y[0]]).reshape((1, 2)))[0]\n",
    "\n",
    "    # using `annotate` allows to specify an offset in units of points\n",
    "    ax.annotate(\"Text\", xy=(x[0],y[0]), xytext=(2,2), textcoords=\"offset points\", \n",
    "                rotation_mode='anchor', rotation=angle_screen)\n",
    "\n",
    "plt.show()"
   ]
  },
  {
   "cell_type": "code",
   "execution_count": null,
   "metadata": {},
   "outputs": [],
   "source": []
  }
 ],
 "metadata": {
  "kernelspec": {
   "display_name": "Python 3.7.13 ('xelab')",
   "language": "python",
   "name": "python3"
  },
  "language_info": {
   "codemirror_mode": {
    "name": "ipython",
    "version": 3
   },
   "file_extension": ".py",
   "mimetype": "text/x-python",
   "name": "python",
   "nbconvert_exporter": "python",
   "pygments_lexer": "ipython3",
   "version": "3.7.13"
  },
  "orig_nbformat": 4,
  "vscode": {
   "interpreter": {
    "hash": "8485ba9c35e31990f20bb3615d95cc32018612f90da4bfdd92ba24e277eb52f3"
   }
  }
 },
 "nbformat": 4,
 "nbformat_minor": 2
}
